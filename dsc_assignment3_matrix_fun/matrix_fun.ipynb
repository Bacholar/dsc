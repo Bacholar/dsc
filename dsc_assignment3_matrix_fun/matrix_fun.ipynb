{
 "cells": [
  {
   "cell_type": "code",
   "execution_count": 2,
   "id": "specified-technology",
   "metadata": {},
   "outputs": [],
   "source": [
    "import numpy as np\n",
    "from numpy.linalg import inv"
   ]
  },
  {
   "cell_type": "markdown",
   "id": "bizarre-wilson",
   "metadata": {},
   "source": [
    "## Data Science - Assignment 3"
   ]
  },
  {
   "cell_type": "markdown",
   "id": "finished-chamber",
   "metadata": {},
   "source": [
    "**Matrix fun**"
   ]
  },
  {
   "cell_type": "markdown",
   "id": "beneficial-classics",
   "metadata": {},
   "source": [
    "**Task 1**"
   ]
  },
  {
   "cell_type": "code",
   "execution_count": 5,
   "id": "passing-favor",
   "metadata": {},
   "outputs": [
    {
     "name": "stdout",
     "output_type": "stream",
     "text": [
      "[[3 2]\n",
      " [1 6]]\n",
      "[[-1  3]\n",
      " [ 4  8]]\n"
     ]
    }
   ],
   "source": [
    "# Create matrices\n",
    "A = np.array([[3,2],[1,6]])\n",
    "B = np.array([[-1,3],[4,8]])\n",
    "print(A)\n",
    "print(B)"
   ]
  },
  {
   "cell_type": "code",
   "execution_count": 3,
   "id": "second-banking",
   "metadata": {},
   "outputs": [
    {
     "name": "stdout",
     "output_type": "stream",
     "text": [
      "A transposing\n",
      "[[3 1]\n",
      " [2 6]]\n",
      "B transposing\n",
      "[[-1  4]\n",
      " [ 3  8]]\n"
     ]
    }
   ],
   "source": [
    "# a)\n",
    "# Find A^T and B^T\n",
    "\n",
    "At = A.transpose()\n",
    "Bt = B.transpose()\n",
    "\n",
    "print(\"A transposing\")\n",
    "print(At)\n",
    "print(\"B transposing\")\n",
    "print(Bt)"
   ]
  },
  {
   "cell_type": "code",
   "execution_count": 4,
   "id": "binding-scroll",
   "metadata": {},
   "outputs": [
    {
     "name": "stdout",
     "output_type": "stream",
     "text": [
      "Simple Multiplikation\n",
      "[[-3  6]\n",
      " [ 4 48]]\n",
      "Matrix Multiplikation\n",
      "[[ 5 25]\n",
      " [23 51]]\n"
     ]
    }
   ],
   "source": [
    "# b)\n",
    "# Find AB and compare with simple multyplication and matrix multiplication\n",
    "AB_S = A * B\n",
    "print(\"Simple Multiplikation\")\n",
    "print(AB_S)\n",
    "AB_M = A@B\n",
    "print(\"Matrix Multiplikation\")\n",
    "print(AB_M)"
   ]
  },
  {
   "cell_type": "code",
   "execution_count": 5,
   "id": "unlikely-birthday",
   "metadata": {},
   "outputs": [
    {
     "name": "stdout",
     "output_type": "stream",
     "text": [
      "[[ 5 23]\n",
      " [25 51]]\n"
     ]
    }
   ],
   "source": [
    "# d)\n",
    "# Find AB^T\n",
    "\n",
    "abt = AB_M.transpose()\n",
    "print(abt)"
   ]
  },
  {
   "cell_type": "code",
   "execution_count": 6,
   "id": "oriental-victory",
   "metadata": {},
   "outputs": [
    {
     "name": "stdout",
     "output_type": "stream",
     "text": [
      "AB^T\n",
      "[[ 5 23]\n",
      " [25 51]]\n",
      "A transposing\n",
      "[[3 1]\n",
      " [2 6]]\n",
      "B transposing\n",
      "[[-1  4]\n",
      " [ 3  8]]\n"
     ]
    }
   ],
   "source": [
    "# Compare AB^T and B^T and A^T\n",
    "print(\"AB^T\")\n",
    "print(abt)\n",
    "print(\"A transposing\")\n",
    "print(At)\n",
    "print(\"B transposing\")\n",
    "print(Bt)"
   ]
  },
  {
   "cell_type": "code",
   "execution_count": 7,
   "id": "comfortable-runner",
   "metadata": {},
   "outputs": [
    {
     "name": "stdout",
     "output_type": "stream",
     "text": [
      "[[3 2]\n",
      " [1 6]]\n"
     ]
    }
   ],
   "source": [
    "At2 = At.transpose()\n",
    "print(At2)"
   ]
  },
  {
   "cell_type": "code",
   "execution_count": 8,
   "id": "dangerous-spotlight",
   "metadata": {},
   "outputs": [
    {
     "name": "stdout",
     "output_type": "stream",
     "text": [
      "[[13 15]\n",
      " [15 37]]\n"
     ]
    }
   ],
   "source": [
    "AAT = A @ At\n",
    "print(AAT)"
   ]
  },
  {
   "cell_type": "markdown",
   "id": "alleged-kidney",
   "metadata": {},
   "source": [
    "**Task 2**"
   ]
  },
  {
   "cell_type": "code",
   "execution_count": 9,
   "id": "suburban-perfume",
   "metadata": {},
   "outputs": [
    {
     "name": "stdout",
     "output_type": "stream",
     "text": [
      "[[15 16]\n",
      " [12 14]]\n",
      "[[ 8 15]\n",
      " [10 21]]\n"
     ]
    }
   ],
   "source": [
    "A = np.array([[2,3],[1,3]])\n",
    "B = np.array([[3,2],[3,4]])\n",
    "\n",
    "AB = A@B\n",
    "BA = B@A\n",
    "print(AB)\n",
    "print(BA)"
   ]
  },
  {
   "cell_type": "markdown",
   "id": "ultimate-cherry",
   "metadata": {},
   "source": [
    "**Task 3**"
   ]
  },
  {
   "cell_type": "code",
   "execution_count": 10,
   "id": "discrete-mattress",
   "metadata": {},
   "outputs": [
    {
     "name": "stdout",
     "output_type": "stream",
     "text": [
      "[[ 1.         -1.        ]\n",
      " [-0.33333333  0.66666667]]\n",
      "[[ 0.66666667 -0.33333333]\n",
      " [-0.5         0.5       ]]\n"
     ]
    }
   ],
   "source": [
    "# a and b\n",
    "AINV = inv(A)\n",
    "BINV = inv(B)\n",
    "print(AINV)\n",
    "print(BINV)"
   ]
  },
  {
   "cell_type": "code",
   "execution_count": 11,
   "id": "guided-start",
   "metadata": {},
   "outputs": [
    {
     "name": "stdout",
     "output_type": "stream",
     "text": [
      "[[1. 0.]\n",
      " [0. 1.]]\n"
     ]
    }
   ],
   "source": [
    "# c\n",
    "AINV = inv(A)\n",
    "AAINV = A @ AINV\n",
    "print(AAINV)"
   ]
  },
  {
   "cell_type": "code",
   "execution_count": 12,
   "id": "prospective-window",
   "metadata": {},
   "outputs": [
    {
     "name": "stdout",
     "output_type": "stream",
     "text": [
      "[[1. 0.]\n",
      " [0. 1.]]\n"
     ]
    }
   ],
   "source": [
    "# d\n",
    "AINV = inv(A)\n",
    "AINFA = AINV @ A\n",
    "print(AINFA)"
   ]
  },
  {
   "cell_type": "code",
   "execution_count": 13,
   "id": "incorporate-alberta",
   "metadata": {},
   "outputs": [
    {
     "name": "stdout",
     "output_type": "stream",
     "text": [
      "[[1. 0.]\n",
      " [0. 1.]]\n"
     ]
    }
   ],
   "source": [
    "# e\n",
    "BINV = inv(B)\n",
    "BBINV = BINV @ B\n",
    "print(BBINV)"
   ]
  },
  {
   "cell_type": "code",
   "execution_count": 14,
   "id": "reserved-number",
   "metadata": {},
   "outputs": [
    {
     "name": "stdout",
     "output_type": "stream",
     "text": [
      "[[1. 0.]\n",
      " [0. 1.]]\n"
     ]
    }
   ],
   "source": [
    "# f\n",
    "BINV = inv(B)\n",
    "BINFB = BINV @ B\n",
    "print(BINFB)"
   ]
  },
  {
   "cell_type": "markdown",
   "id": "changing-asthma",
   "metadata": {},
   "source": [
    "**Task 4**"
   ]
  },
  {
   "cell_type": "code",
   "execution_count": 15,
   "id": "blank-touch",
   "metadata": {},
   "outputs": [],
   "source": [
    "A = np.array([[2,1],[4,2]])\n",
    "#AINV = inv(A)\n",
    "#print(AINV)\n",
    "# denominatot is zero (2*2-1*4) = 0"
   ]
  },
  {
   "cell_type": "markdown",
   "id": "fantastic-marine",
   "metadata": {},
   "source": [
    "**Task 5**"
   ]
  },
  {
   "cell_type": "code",
   "execution_count": 16,
   "id": "third-israeli",
   "metadata": {},
   "outputs": [
    {
     "name": "stdout",
     "output_type": "stream",
     "text": [
      "[[ 0.70710678 -0.70710678]\n",
      " [ 0.70710678  0.70710678]]\n"
     ]
    },
    {
     "data": {
      "image/png": "[encoded data removed]",
      "text/plain": [
       "<Figure size 432x288 with 1 Axes>"
      ]
     },
     "execution_count": 16,
     "metadata": {},
     "output_type": "execute_result"
    },
    {
     "data": {
      "text/plain": [
       "<Figure size 432x288 with 0 Axes>"
      ]
     },
     "metadata": {},
     "output_type": "display_data"
    },
    {
     "data": {
      "image/png": "[encoded data removed]",
      "text/plain": [
       "<Figure size 432x288 with 1 Axes>"
      ]
     },
     "metadata": {
      "needs_background": "light"
     },
     "output_type": "display_data"
    }
   ],
   "source": [
    "import numpy as np\n",
    "from matplotlib import pyplot as plt\n",
    "from numpy.linalg import inv\n",
    "from scipy.ndimage import rotate\n",
    "\n",
    "xs = np.array([0,0,3,3,0,1.5,3]) # List of x coordinates\n",
    "ys = np.array([1,0,0,1,1,2 ,1]) # List of y coordinates\n",
    "\n",
    "fig = plt.figure()\n",
    "fig, ax = plt.subplots()\n",
    "\n",
    "xs_ys = np.array([xs,ys])\n",
    "ax.axis('equal')\n",
    "\n",
    "# Plot the points\n",
    "ax.plot( *xs_ys, '-', color='b')\n",
    "\n",
    "# Create a rotation matrix\n",
    "# rot = np.array([[1, 0],[0, 1]]) # <-- CHANGE THIS\n",
    "#rot = np.array([[0.71, -0.71],[0.71, 0.71]])\n",
    "from matplotlib import pyplot as plt\n",
    "import math\n",
    "rot = np.array([[math.cos(math.pi/4),-math.sin(math.pi/4)],[math.sin(math.pi/4),math.cos(math.pi/4)]])\n",
    "print(rot)\n",
    "\n",
    "\n",
    "# turn the two lists (xs, ys) into a list of (x,y) tuples\n",
    "points = np.array([[x,y] for x,y in zip(xs,ys)])\n",
    "\n",
    "# Make the transformation:\n",
    "points_rot = (points @ rot)\n",
    "\n",
    "# Turn it into a row of xs and a row of ys:\n",
    "xs_ys_rot = np.array([points_rot[:,0], points_rot[:,1]])\n",
    "\n",
    "# Finally, plot it\n",
    "ax.plot( *xs_ys_rot, '-', color='r')\n",
    "fig"
   ]
  },
  {
   "cell_type": "code",
   "execution_count": null,
   "id": "finite-gazette",
   "metadata": {},
   "outputs": [],
   "source": []
  },
  {
   "cell_type": "code",
   "execution_count": null,
   "id": "veterinary-harassment",
   "metadata": {},
   "outputs": [],
   "source": []
  }
 ],
 "metadata": {
  "kernelspec": {
   "display_name": "Python 3",
   "language": "python",
   "name": "python3"
  },
  "language_info": {
   "codemirror_mode": {
    "name": "ipython",
    "version": 3
   },
   "file_extension": ".py",
   "mimetype": "text/x-python",
   "name": "python",
   "nbconvert_exporter": "python",
   "pygments_lexer": "ipython3",
   "version": "3.8.5"
  }
 },
 "nbformat": 4,
 "nbformat_minor": 5
}
