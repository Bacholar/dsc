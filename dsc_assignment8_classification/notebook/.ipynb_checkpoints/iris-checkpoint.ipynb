{
 "cells": [
  {
   "cell_type": "code",
   "execution_count": 1,
   "id": "demonstrated-talent",
   "metadata": {},
   "outputs": [],
   "source": [
    "# For data manipulation\n",
    "import pandas as pd\n",
    "\n",
    "# for scientific computation\n",
    "import numpy as np\n",
    "\n",
    "# for data analysis\n",
    "from sklearn.preprocessing import StandardScaler \n",
    "from sklearn import linear_model\n",
    "from sklearn.linear_model import LinearRegression\n",
    "import sklearn.metrics as sm\n",
    "\n",
    "# for diagramming \n",
    "import matplotlib.pyplot as plt\n",
    "import seaborn as sns\n",
    "\n",
    "# For serialization and deserialization of data from/to file\n",
    "import pickle"
   ]
  },
  {
   "cell_type": "code",
   "execution_count": 5,
   "id": "headed-designer",
   "metadata": {},
   "outputs": [],
   "source": [
    "# read the data\n",
    "df = pd.read_csv(\"../data/iris/iris.data\", sep = ',')"
   ]
  },
  {
   "cell_type": "markdown",
   "id": "maritime-honduras",
   "metadata": {},
   "source": [
    "## Task 2\n",
    "\n",
    "Make a KNN classifier on the IRIS dataset using Python. Make sure to split the dataset into training and\n",
    "testing sets."
   ]
  },
  {
   "cell_type": "code",
   "execution_count": null,
   "id": "healthy-savannah",
   "metadata": {},
   "outputs": [],
   "source": []
  },
  {
   "cell_type": "markdown",
   "id": "afraid-administrator",
   "metadata": {},
   "source": [
    "## Task 3\n",
    "\n",
    "Download KNIME. Make a KNN classifier on the IRIS dataset."
   ]
  },
  {
   "cell_type": "code",
   "execution_count": null,
   "id": "changed-complaint",
   "metadata": {},
   "outputs": [],
   "source": []
  },
  {
   "cell_type": "markdown",
   "id": "casual-bhutan",
   "metadata": {},
   "source": [
    "## Task 4\n",
    "\n",
    "Find a dataset that interests you on the UCI Machine Learning Repository. Make a KNN classifier on the\n",
    "dataset, either in Python or in KNIME. Visualize the classified data."
   ]
  },
  {
   "cell_type": "code",
   "execution_count": null,
   "id": "dutch-latter",
   "metadata": {},
   "outputs": [],
   "source": []
  },
  {
   "cell_type": "markdown",
   "id": "quick-ridge",
   "metadata": {},
   "source": [
    "## Task 5\n",
    "\n",
    "Implement a Gaussian Naïve Bayes classifier on the same data set (in either Python or KNIME)."
   ]
  },
  {
   "cell_type": "code",
   "execution_count": null,
   "id": "australian-above",
   "metadata": {},
   "outputs": [],
   "source": []
  },
  {
   "cell_type": "markdown",
   "id": "quantitative-savings",
   "metadata": {},
   "source": [
    "## Task 6\n",
    "\n",
    "Decide which of the two classifiers you would use on new data. What is behind your decision?"
   ]
  },
  {
   "cell_type": "code",
   "execution_count": null,
   "id": "organized-premises",
   "metadata": {},
   "outputs": [],
   "source": []
  }
 ],
 "metadata": {
  "kernelspec": {
   "display_name": "Python 3",
   "language": "python",
   "name": "python3"
  },
  "language_info": {
   "codemirror_mode": {
    "name": "ipython",
    "version": 3
   },
   "file_extension": ".py",
   "mimetype": "text/x-python",
   "name": "python",
   "nbconvert_exporter": "python",
   "pygments_lexer": "ipython3",
   "version": "3.8.5"
  }
 },
 "nbformat": 4,
 "nbformat_minor": 5
}
