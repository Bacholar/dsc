{
 "cells": [
  {
   "cell_type": "markdown",
   "id": "thermal-weekend",
   "metadata": {},
   "source": [
    "## Iris KNN Classifier"
   ]
  },
  {
   "cell_type": "code",
   "execution_count": 2,
   "id": "dirty-technical",
   "metadata": {},
   "outputs": [],
   "source": [
    "from sklearn import datasets\n",
    "from sklearn.neighbors import KNeighborsClassifier\n",
    "from sklearn.model_selection import train_test_split\n",
    "from matplotlib import pyplot as plt\n",
    "from sklearn.metrics import confusion_matrix\n",
    "from sklearn.metrics import accuracy_score\n",
    "from sklearn.metrics import auc"
   ]
  },
  {
   "cell_type": "markdown",
   "id": "instant-estonia",
   "metadata": {},
   "source": [
    "## Task 2\n",
    "\n",
    "Make a KNN classifier on the IRIS dataset using Python. Make sure to split the dataset into training and\n",
    "testing sets."
   ]
  },
  {
   "cell_type": "code",
   "execution_count": 3,
   "id": "according-photography",
   "metadata": {},
   "outputs": [],
   "source": [
    "iris = datasets.load_iris()"
   ]
  },
  {
   "cell_type": "code",
   "execution_count": 4,
   "id": "still-representative",
   "metadata": {},
   "outputs": [],
   "source": [
    "knn = KNeighborsClassifier(n_neighbors=6)"
   ]
  },
  {
   "cell_type": "code",
   "execution_count": 5,
   "id": "every-playing",
   "metadata": {},
   "outputs": [],
   "source": [
    "X = iris.data\n",
    "y = iris.target\n",
    "#knn.fit(X, y) Fit kun på train set, for at kunne teste med det resterende sæt"
   ]
  },
  {
   "cell_type": "code",
   "execution_count": 6,
   "id": "abandoned-cleaning",
   "metadata": {},
   "outputs": [],
   "source": [
    "X_train, X_test, y_train, y_test = train_test_split(iris.data, iris.target, train_size=0.8, random_state=1)"
   ]
  },
  {
   "cell_type": "code",
   "execution_count": 7,
   "id": "threatened-concept",
   "metadata": {},
   "outputs": [
    {
     "data": {
      "text/plain": [
       "KNeighborsClassifier(n_neighbors=6)"
      ]
     },
     "execution_count": 7,
     "metadata": {},
     "output_type": "execute_result"
    }
   ],
   "source": [
    "knn.fit(X_train, y_train)"
   ]
  },
  {
   "cell_type": "code",
   "execution_count": 8,
   "id": "ahead-photographer",
   "metadata": {
    "scrolled": true
   },
   "outputs": [
    {
     "name": "stdout",
     "output_type": "stream",
     "text": [
      "[0 1 1 0 2 1 2 0 0 2 1 0 2 1 1 0 1 1 0 0 1 1 1 0 2 1 0 0 1 2]\n",
      "[0 1 1 0 2 1 2 0 0 2 1 0 2 1 1 0 1 1 0 0 1 1 1 0 2 1 0 0 1 2]\n"
     ]
    }
   ],
   "source": [
    "predicted = knn.predict(X_test)\n",
    "print(predicted)\n",
    "print(y_test)"
   ]
  },
  {
   "cell_type": "markdown",
   "id": "documentary-schedule",
   "metadata": {},
   "source": [
    "## Task 3\n",
    "\n",
    "Download KNIME. Make a KNN classifier on the IRIS dataset."
   ]
  },
  {
   "cell_type": "markdown",
   "id": "vocal-director",
   "metadata": {},
   "source": [
    "![knime.png](attachment:../../images/knime.png)"
   ]
  },
  {
   "cell_type": "code",
   "execution_count": null,
   "id": "least-accounting",
   "metadata": {},
   "outputs": [],
   "source": []
  },
  {
   "cell_type": "markdown",
   "id": "catholic-monroe",
   "metadata": {},
   "source": [
    "## Task 4\n",
    "\n",
    "**Wine KNN Classifier**\n",
    "\n",
    "Find a dataset that interests you on the UCI Machine Learning Repository. Make a KNN classifier on the\n",
    "dataset, either in Python or in KNIME. Visualize the classified data."
   ]
  },
  {
   "cell_type": "code",
   "execution_count": 33,
   "id": "comprehensive-lying",
   "metadata": {},
   "outputs": [],
   "source": [
    "wine = datasets.load_wine()"
   ]
  },
  {
   "cell_type": "code",
   "execution_count": 34,
   "id": "backed-alias",
   "metadata": {},
   "outputs": [],
   "source": [
    "knn = KNeighborsClassifier(n_neighbors=1)"
   ]
  },
  {
   "cell_type": "code",
   "execution_count": 35,
   "id": "pointed-nightmare",
   "metadata": {},
   "outputs": [],
   "source": [
    "X_train, X_test, y_train, y_test = train_test_split(wine.data, wine.target, train_size=0.8, random_state=1)"
   ]
  },
  {
   "cell_type": "code",
   "execution_count": 36,
   "id": "supported-rapid",
   "metadata": {
    "scrolled": true
   },
   "outputs": [
    {
     "data": {
      "text/plain": [
       "KNeighborsClassifier(n_neighbors=1)"
      ]
     },
     "execution_count": 36,
     "metadata": {},
     "output_type": "execute_result"
    }
   ],
   "source": [
    "knn.fit(X_train, y_train)"
   ]
  },
  {
   "cell_type": "code",
   "execution_count": 37,
   "id": "abstract-warren",
   "metadata": {},
   "outputs": [
    {
     "name": "stdout",
     "output_type": "stream",
     "text": [
      "[2 1 2 1 0 1 2 0 2 1 0 1 1 0 2 1 1 0 1 0 0 1 2 0 0 1 0 0 0 2 1 2 1 0 1 1]\n",
      "[2 1 0 1 0 2 1 0 2 1 0 0 1 0 1 1 2 0 1 0 0 1 2 1 0 2 0 0 0 2 1 2 2 0 1 1]\n"
     ]
    }
   ],
   "source": [
    "predicted = knn.predict(X_test)\n",
    "print(predicted)\n",
    "print(y_test)"
   ]
  },
  {
   "cell_type": "code",
   "execution_count": 38,
   "id": "hollow-multimedia",
   "metadata": {
    "scrolled": true
   },
   "outputs": [
    {
     "name": "stdout",
     "output_type": "stream",
     "text": [
      "Accuracy: 0.75\n"
     ]
    }
   ],
   "source": [
    "from sklearn import metrics\n",
    "# Model Accuracy, how often is the classifier correct?\n",
    "print(\"Accuracy:\",metrics.accuracy_score(y_test, predicted))"
   ]
  },
  {
   "cell_type": "code",
   "execution_count": 41,
   "id": "endless-intranet",
   "metadata": {},
   "outputs": [],
   "source": [
    "import seaborn as sns"
   ]
  },
  {
   "cell_type": "code",
   "execution_count": 44,
   "id": "mexican-enough",
   "metadata": {},
   "outputs": [
    {
     "name": "stdout",
     "output_type": "stream",
     "text": [
      "['alcohol', 'malic_acid', 'ash', 'alcalinity_of_ash', 'magnesium', 'total_phenols', 'flavanoids', 'nonflavanoid_phenols', 'proanthocyanins', 'color_intensity', 'hue', 'od280/od315_of_diluted_wines', 'proline']\n"
     ]
    },
    {
     "name": "stderr",
     "output_type": "stream",
     "text": [
      "/home/jorg/anaconda3/lib/python3.8/site-packages/seaborn/_decorators.py:36: FutureWarning: Pass the following variables as keyword args: x, y, hue. From version 0.12, the only valid positional argument will be `data`, and passing other arguments without an explicit keyword will result in an error or misinterpretation.\n",
      "  warnings.warn(\n"
     ]
    },
    {
     "data": {
      "text/plain": [
       "<AxesSubplot:>"
      ]
     },
     "execution_count": 44,
     "metadata": {},
     "output_type": "execute_result"
    },
    {
     "data": {
      "image/png": "[encoded data removed]",
      "text/plain": [
       "<Figure size 432x288 with 1 Axes>"
      ]
     },
     "metadata": {
      "needs_background": "light"
     },
     "output_type": "display_data"
    }
   ],
   "source": [
    "wine = datasets.load_wine() \n",
    "print(wine.feature_names)\n",
    "alcohol = [w[0] for w in wine.data] \n",
    "malic_acid = [w[1] for w in wine.data] # æblesyre \n",
    "hue = [w[10] for w in wine.data] # vin nuance \n",
    "magnesium = [w[4] for w in wine.data] \n",
    "#print(alcohol) \n",
    "#print(something_else) \n",
    "sns.scatterplot(alcohol, malic_acid, hue) # Viser sammenhængen mellem alkoholprocent, æblesyre og vinens farve. "
   ]
  },
  {
   "cell_type": "markdown",
   "id": "advance-insider",
   "metadata": {},
   "source": [
    "## Task 5\n",
    "\n",
    "Implement a Gaussian Naïve Bayes classifier on the same data set (in either Python or KNIME)."
   ]
  },
  {
   "cell_type": "code",
   "execution_count": null,
   "id": "individual-regular",
   "metadata": {},
   "outputs": [],
   "source": []
  },
  {
   "cell_type": "markdown",
   "id": "difficult-picture",
   "metadata": {},
   "source": [
    "## Task 6\n",
    "\n",
    "Decide which of the two classifiers you would use on new data. What is behind your decision?"
   ]
  },
  {
   "cell_type": "code",
   "execution_count": null,
   "id": "threaded-category",
   "metadata": {},
   "outputs": [],
   "source": []
  }
 ],
 "metadata": {
  "kernelspec": {
   "display_name": "Python 3",
   "language": "python",
   "name": "python3"
  },
  "language_info": {
   "codemirror_mode": {
    "name": "ipython",
    "version": 3
   },
   "file_extension": ".py",
   "mimetype": "text/x-python",
   "name": "python",
   "nbconvert_exporter": "python",
   "pygments_lexer": "ipython3",
   "version": "3.8.5"
  }
 },
 "nbformat": 4,
 "nbformat_minor": 5
}
