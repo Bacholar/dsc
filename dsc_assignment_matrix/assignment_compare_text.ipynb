{
 "cells": [
  {
   "cell_type": "markdown",
   "id": "varied-scotland",
   "metadata": {},
   "source": [
    "## Data Science Session 3"
   ]
  },
  {
   "cell_type": "markdown",
   "id": "considered-bobby",
   "metadata": {},
   "source": [
    "**Assignment:**\n",
    "\n",
    "Store some text in three files:\n",
    "\n",
    "    •two of text -A and B -must be created by the same author -X;\n",
    "    •the third text -C -is created by another author -Y. \n",
    "    \n",
    "Create a program to compare:\n",
    "•A and B\n",
    "•A and C\n",
    "•B and C \n",
    "\n",
    "and to recognize the authors of each"
   ]
  },
  {
   "cell_type": "code",
   "execution_count": 37,
   "id": "surprised-level",
   "metadata": {},
   "outputs": [],
   "source": [
    "import pandas as pd\n",
    "import sklearn as sk\n",
    "import math\n",
    "import sys\n",
    "import nltk # stopwords(\"english\")\n",
    "#nltk.download()"
   ]
  },
  {
   "cell_type": "markdown",
   "id": "under-wheat",
   "metadata": {},
   "source": [
    " **Terminology**\n",
    " \n",
    " - t — term (word)\n",
    " - d — document (set of words)\n",
    " - N — count of corpus\n",
    " - corpus — the total document set\n",
    " \n",
    " "
   ]
  },
  {
   "cell_type": "markdown",
   "id": "surrounded-consortium",
   "metadata": {},
   "source": [
    "**Text links**\n",
    "\n",
    "- Bill Clinton\n",
    "    - https://edition.cnn.com/2020/08/18/politics/bill-clinton-speech-transcript-dnc/index.html\n",
    "- Martin Fowler\n",
    "    - https://martinfowler.com/agile.html\n",
    "    - https://martinfowler.com/agile.html"
   ]
  },
  {
   "cell_type": "markdown",
   "id": "virgin-breast",
   "metadata": {},
   "source": [
    "**Functions**"
   ]
  },
  {
   "cell_type": "code",
   "execution_count": 38,
   "id": "quick-landing",
   "metadata": {},
   "outputs": [],
   "source": [
    "# read text document\n",
    "def read_text_document(file_name):\n",
    "    try:\n",
    "        with open(file_name, 'r') as f:\n",
    "            text = f.readline()\n",
    "        return text\n",
    "    except IOError:\n",
    "        print(\"Error opening or reading input file: \", file_name)\n",
    "        sys.exit()\n",
    "\n",
    "\n",
    "# delete characteres\n",
    "def delete_unimportant_characters(corpus):\n",
    "    cs = ['.', '\"', ',', ';', '-', ':', '?', '!', '/']  # list of unimportant characters\n",
    "    text = \"\"\n",
    "\n",
    "    for elem in corpus:\n",
    "        if elem == cs[0] or elem == cs[1] or elem == cs[2] or elem == cs[3] or elem == cs[4] or elem == cs[5] or elem == \\\n",
    "                cs[6] or elem == cs[7] or elem == cs[8]:\n",
    "            text += \" \"\n",
    "        elif elem.isdigit():  # removes all digits\n",
    "            text += \" \"\n",
    "        else:\n",
    "            text += elem\n",
    "    return ' '.join(text.split()).lower()  # removes whitespace and sets all words to lowercase\n",
    "\n",
    "\n",
    "\n",
    "def computeTextFrequency(wordDict, doc):\n",
    "    tfDict = {}\n",
    "    corpusCount = len(doc)\n",
    "    for word, count in wordDict.items():\n",
    "        tfDict[word] = count / float(corpusCount)\n",
    "    return tfDict\n",
    "\n",
    "\n",
    "# IDF -  inverse of the document frequency which measures the informativeness of term t\n",
    "#  lower occurrence - higher importance of the word\n",
    "# idf(t) = N/df\n",
    "# to avoid div by zero: idf(t) = log(N/(df + 1))\n",
    "def computeIDF(docList):\n",
    "    idf = {}\n",
    "    N = len(docList)\n",
    "\n",
    "    idf = dict.fromkeys(docList[0].keys(), 0)\n",
    "    for word, wcount in idf.items():\n",
    "        idf[word] = math.log10(N / (float(wcount) + 1))\n",
    "\n",
    "    return (idf)\n",
    "\n",
    "# calculate tf-idf as a measure for the importance of a word\n",
    "# tf-idf(t, d) = tf(t, d) * log(N/(df + 1))\n",
    "def computeTFIDF(tf, idfs):\n",
    "    tfidf = {}\n",
    "    for word, wcount in tf.items():\n",
    "        tfidf[word] = wcount * idfs[word]\n",
    "    return tfidf\n",
    "\n",
    "\n",
    "\n",
    "# Calculate dot product of two vectors, divide it by the magnitudes to find the cos(angle between them)\n",
    "# Use the result as a correlation coefficient\n",
    "def cosine(vector1, vector2):\n",
    "    # calculate nominator as a dot product\n",
    "    intersect = set(vector1.keys()) & set(vector2.keys())\n",
    "    numerator = sum([vector1[x] * vector2[x] for x in intersect])\n",
    "\n",
    "    # calculate the denominator\n",
    "    sum1 = sum([vector1[x] ** 2 for x in list(vector1.keys())])\n",
    "    sum2 = sum([vector2[x] ** 2 for x in list(vector2.keys())])\n",
    "\n",
    "    denominator = math.sqrt(sum1) * math.sqrt(sum2)\n",
    "    if not denominator:\n",
    "        return 0.0\n",
    "    else:\n",
    "        return float(numerator) / denominator\n",
    "\n",
    "\n",
    "def count_words_in_text(union_text, original_text):\n",
    "    for word in original_text:\n",
    "        union_text[word] += 1\n",
    "    return union_text"
   ]
  },
  {
   "cell_type": "code",
   "execution_count": 39,
   "id": "serial-break",
   "metadata": {},
   "outputs": [],
   "source": [
    "# Read text file\n",
    "bill_clinton = read_text_document('../data/bill_clinton.txt')\n",
    "fowler_a = read_text_document('../data/martin_fowler_1.txt')\n",
    "fowler_b = read_text_document('../data/martin_fowler_2.txt')"
   ]
  },
  {
   "cell_type": "code",
   "execution_count": 40,
   "id": "regulation-jenny",
   "metadata": {},
   "outputs": [],
   "source": [
    "bill_clinton = delete_unimportant_characters(bill_clinton)\n",
    "fowler_a = delete_unimportant_characters(fowler_a)\n",
    "fowler_b = delete_unimportant_characters(fowler_b)"
   ]
  },
  {
   "cell_type": "code",
   "execution_count": 41,
   "id": "republican-review",
   "metadata": {},
   "outputs": [],
   "source": [
    "# Split each sentence\n",
    "bill_clinton = bill_clinton.split(' ')\n",
    "fowler_a = fowler_a.split(' ')\n",
    "fowler_b = fowler_b.split(' ')"
   ]
  },
  {
   "cell_type": "code",
   "execution_count": 42,
   "id": "independent-possession",
   "metadata": {},
   "outputs": [],
   "source": [
    "# removes regular words\n",
    "from nltk.corpus import stopwords\n",
    "stop_words = set(stopwords.words('english'))\n",
    "bill_clinton = [w for w in bill_clinton if not w in stop_words]\n",
    "fowler_a = [w for w in fowler_a if not w in stop_words]\n",
    "fowler_b = [w for w in fowler_b if not w in stop_words]"
   ]
  },
  {
   "cell_type": "code",
   "execution_count": 43,
   "id": "complex-batch",
   "metadata": {},
   "outputs": [],
   "source": [
    "# Combine martin fowler \"a\" with martin fowler \"b\" and bill \"c\"\n",
    "total_of_abc = set(fowler_a).union(set(fowler_b)).union(set(bill_clinton))"
   ]
  },
  {
   "cell_type": "code",
   "execution_count": 44,
   "id": "local-asthma",
   "metadata": {},
   "outputs": [
    {
     "name": "stdout",
     "output_type": "stream",
     "text": [
      "{'virus': 0, 'distracting': 0, 'production': 0, 'renew': 0, \"japan's\": 0, 'choice': 0, 'advice': 0, 'authors': 0, 'new': 0, 'election': 0, 'specifics': 0, 'quickly': 0, 'surge': 0, 'practices': 0, 'needs': 0, 'collaboration': 0, 'many': 0, 'great': 0, 'responsibility': 0, 'rapidly': 0, 'media': 0, 'crisis': 0, 'allowing': 0, 'team': 0, 'despite': 0, 'information': 0, 'else': 0, 'triple': 0, 'percent': 0, 'began': 0, '(rather': 0, 'businesses': 0, 'year': 0, 'imposing': 0, 'center': 0, 'kids': 0, 'fundamental': 0, 'within': 0, 'make': 0, 'importantly': 0, 'would': 0, 'technology': 0, 'beat': 0, 'concentrate': 0, 'significant': 0, \"community's\": 0, 'watching': 0, 'organizing': 0, 'collapses': 0, 'still': 0, 'ability': 0, 'denying': 0, 'changes': 0, 'important': 0, 'inflame': 0, 'deaths': 0, 'managers': 0, 'hire': 0, 'leader': 0, 'decade': 0, 'asked': 0, 'demeaning': 0, 'defines': 0, 'writing': 0, 'blame': 0, 'thing': 0, 'get': 0, 'times': 0, 'tackling': 0, 'agile': 0, 'shrugged': 0, 'business': 0, 'put': 0, 'widely': 0, 'social': 0, 'entertain': 0, 'oval': 0, 'instead': 0, 'direction': 0, 'exploded': 0, 'small': 0, 'trump': 0, 'troubling': 0, 'relevant': 0, 'effective': 0, 'encourage': 0, 'job': 0, \"agile's\": 0, 'time': 0, 'harder': 0, 'manifesto': 0, 'towards': 0, 'disregarding': 0, 'different': 0, 'economy': 0, 'rate': 0, \"there's\": 0, 'changes—his': 0, 'tomorrows': 0, 'skills': 0, 'go': 0, 'written': 0, 'much': 0, 'house': 0, 'destroying': 0, 'able': 0, 'soon': 0, 'interview': 0, 'vital': 0, 'give': 0, 'products': 0, 'cases': 0, 'want': 0, 'done': 0, 'every': 0, 'culture': 0, 'importance': 0, 'learn': 0, 'approach': 0, 'killing': 0, 'patterns': 0, 'practical': 0, 'product': 0, 'determination': 0, 'principles': 0, 'three': 0, 'help': 0, 'solve': 0, 'people': 0, 'scientists': 0, 'mission': 0, 'real': 0, 'way': 0, \"world's\": 0, 'major': 0, \"that's\": 0, 'waited': 0, 'runs': 0, 'given': 0, 'software': 0, 'challenges': 0, 'popular': 0, 'values': 0, 'distract': 0, 'problems': 0, 'change': 0, 'chaos': 0, 'deny': 0, 'presidential': 0, \"users'\": 0, 'hit': 0, 'react': 0, 'projects)': 0, 'president': 0, 'main': 0, 'steadily': 0, 'requiring': 0, 'conceived': 0, 'accepted': 0, 'surface': 0, 'hours': 0, 'tv': 0, 'unite': 0, 'dying': 0, 'masks': 0, 'partners': 0, 'mainstream': 0, 'features': 0, 'storm': 0, 'high': 0, 'development': 0, 'control': 0, 'deal': 0, 'shift': 0, 'south': 0, 'works': 0, \"he's\": 0, 'industrial': 0, 'old': 0, 'articles': 0, 'outbreak': 0, 'theme': 0, 'world': 0, \"team's\": 0, 'interplay': 0, 'party': 0, 'us': 0, 'critical': 0, \"korea's\": 0, 'order': 0, 'site': 0, 'becomes': 0, 'faux': 0, 'adapt': 0, 'first': 0, 'developed': 0, 'allows': 0, 'became': 0, 'donald': 0, 'end': 0, 'strength': 0, 'trying': 0, 'original': 0, 'leading': 0, 'fighting': 0, 'zapping': 0, 'divide': 0, 'spending': 0, 'millions': 0, 'modern': 0, 'wear': 0, 'process': 0, 'expert': 0, 'one': 0, 'techniques': 0, 'like': 0, 'cards': 0, 'contract': 0, 'years': 0, 'decide': 0, 'last': 0, 'create': 0, 'bragging': 0, 'ignored': 0, 'open': 0, 'upon': 0, 'work': 0, 'flexible': 0, 'respond': 0, 'habit': 0, \"kingdom's\": 0, 'even': 0, 'said': 0, 'better': 0, 'disappear': 0, 'man': 0, 'jobs': 0, 'population': 0, 'twice': 0, 'command': 0, 'since': 0, 'thinking': 0, 'focus': 0, 'path': 0, 'technical': 0, 'never': 0, 'around': 0, 'facts': 0, 'stable': 0, 'bright': 0, 'got': 0, 'united': 0, 'approaches': 0, 'several': 0, 'guy': 0, 'take': 0, 'opportunities': 0, 'office': 0, 'earth': 0, 'stops': 0, 'profession': 0, 'reality': 0, 'complex': 0, 'teams': 0, 'imagine': 0, 'buck': 0, 'covid': 0, 'well': 0, 'offering': 0, 'raising': 0, 'day': 0, 'states': 0, 'says': 0, 'tall': 0, 'excellence': 0, 'unemployment': 0, 'planning': 0, 'whether': 0, 'someone': 0, 'easy': 0, 'users': 0, \"we're\": 0}\n",
      "{'virus': 0, 'distracting': 0, 'production': 0, 'renew': 0, \"japan's\": 0, 'choice': 0, 'advice': 0, 'authors': 0, 'new': 0, 'election': 0, 'specifics': 0, 'quickly': 0, 'surge': 0, 'practices': 0, 'needs': 0, 'collaboration': 0, 'many': 0, 'great': 0, 'responsibility': 0, 'rapidly': 0, 'media': 0, 'crisis': 0, 'allowing': 0, 'team': 0, 'despite': 0, 'information': 0, 'else': 0, 'triple': 0, 'percent': 0, 'began': 0, '(rather': 0, 'businesses': 0, 'year': 0, 'imposing': 0, 'center': 0, 'kids': 0, 'fundamental': 0, 'within': 0, 'make': 0, 'importantly': 0, 'would': 0, 'technology': 0, 'beat': 0, 'concentrate': 0, 'significant': 0, \"community's\": 0, 'watching': 0, 'organizing': 0, 'collapses': 0, 'still': 0, 'ability': 0, 'denying': 0, 'changes': 0, 'important': 0, 'inflame': 0, 'deaths': 0, 'managers': 0, 'hire': 0, 'leader': 0, 'decade': 0, 'asked': 0, 'demeaning': 0, 'defines': 0, 'writing': 0, 'blame': 0, 'thing': 0, 'get': 0, 'times': 0, 'tackling': 0, 'agile': 0, 'shrugged': 0, 'business': 0, 'put': 0, 'widely': 0, 'social': 0, 'entertain': 0, 'oval': 0, 'instead': 0, 'direction': 0, 'exploded': 0, 'small': 0, 'trump': 0, 'troubling': 0, 'relevant': 0, 'effective': 0, 'encourage': 0, 'job': 0, \"agile's\": 0, 'time': 0, 'harder': 0, 'manifesto': 0, 'towards': 0, 'disregarding': 0, 'different': 0, 'economy': 0, 'rate': 0, \"there's\": 0, 'changes—his': 0, 'tomorrows': 0, 'skills': 0, 'go': 0, 'written': 0, 'much': 0, 'house': 0, 'destroying': 0, 'able': 0, 'soon': 0, 'interview': 0, 'vital': 0, 'give': 0, 'products': 0, 'cases': 0, 'want': 0, 'done': 0, 'every': 0, 'culture': 0, 'importance': 0, 'learn': 0, 'approach': 0, 'killing': 0, 'patterns': 0, 'practical': 0, 'product': 0, 'determination': 0, 'principles': 0, 'three': 0, 'help': 0, 'solve': 0, 'people': 0, 'scientists': 0, 'mission': 0, 'real': 0, 'way': 0, \"world's\": 0, 'major': 0, \"that's\": 0, 'waited': 0, 'runs': 0, 'given': 0, 'software': 0, 'challenges': 0, 'popular': 0, 'values': 0, 'distract': 0, 'problems': 0, 'change': 0, 'chaos': 0, 'deny': 0, 'presidential': 0, \"users'\": 0, 'hit': 0, 'react': 0, 'projects)': 0, 'president': 0, 'main': 0, 'steadily': 0, 'requiring': 0, 'conceived': 0, 'accepted': 0, 'surface': 0, 'hours': 0, 'tv': 0, 'unite': 0, 'dying': 0, 'masks': 0, 'partners': 0, 'mainstream': 0, 'features': 0, 'storm': 0, 'high': 0, 'development': 0, 'control': 0, 'deal': 0, 'shift': 0, 'south': 0, 'works': 0, \"he's\": 0, 'industrial': 0, 'old': 0, 'articles': 0, 'outbreak': 0, 'theme': 0, 'world': 0, \"team's\": 0, 'interplay': 0, 'party': 0, 'us': 0, 'critical': 0, \"korea's\": 0, 'order': 0, 'site': 0, 'becomes': 0, 'faux': 0, 'adapt': 0, 'first': 0, 'developed': 0, 'allows': 0, 'became': 0, 'donald': 0, 'end': 0, 'strength': 0, 'trying': 0, 'original': 0, 'leading': 0, 'fighting': 0, 'zapping': 0, 'divide': 0, 'spending': 0, 'millions': 0, 'modern': 0, 'wear': 0, 'process': 0, 'expert': 0, 'one': 0, 'techniques': 0, 'like': 0, 'cards': 0, 'contract': 0, 'years': 0, 'decide': 0, 'last': 0, 'create': 0, 'bragging': 0, 'ignored': 0, 'open': 0, 'upon': 0, 'work': 0, 'flexible': 0, 'respond': 0, 'habit': 0, \"kingdom's\": 0, 'even': 0, 'said': 0, 'better': 0, 'disappear': 0, 'man': 0, 'jobs': 0, 'population': 0, 'twice': 0, 'command': 0, 'since': 0, 'thinking': 0, 'focus': 0, 'path': 0, 'technical': 0, 'never': 0, 'around': 0, 'facts': 0, 'stable': 0, 'bright': 0, 'got': 0, 'united': 0, 'approaches': 0, 'several': 0, 'guy': 0, 'take': 0, 'opportunities': 0, 'office': 0, 'earth': 0, 'stops': 0, 'profession': 0, 'reality': 0, 'complex': 0, 'teams': 0, 'imagine': 0, 'buck': 0, 'covid': 0, 'well': 0, 'offering': 0, 'raising': 0, 'day': 0, 'states': 0, 'says': 0, 'tall': 0, 'excellence': 0, 'unemployment': 0, 'planning': 0, 'whether': 0, 'someone': 0, 'easy': 0, 'users': 0, \"we're\": 0}\n",
      "{'virus': 0, 'distracting': 0, 'production': 0, 'renew': 0, \"japan's\": 0, 'choice': 0, 'advice': 0, 'authors': 0, 'new': 0, 'election': 0, 'specifics': 0, 'quickly': 0, 'surge': 0, 'practices': 0, 'needs': 0, 'collaboration': 0, 'many': 0, 'great': 0, 'responsibility': 0, 'rapidly': 0, 'media': 0, 'crisis': 0, 'allowing': 0, 'team': 0, 'despite': 0, 'information': 0, 'else': 0, 'triple': 0, 'percent': 0, 'began': 0, '(rather': 0, 'businesses': 0, 'year': 0, 'imposing': 0, 'center': 0, 'kids': 0, 'fundamental': 0, 'within': 0, 'make': 0, 'importantly': 0, 'would': 0, 'technology': 0, 'beat': 0, 'concentrate': 0, 'significant': 0, \"community's\": 0, 'watching': 0, 'organizing': 0, 'collapses': 0, 'still': 0, 'ability': 0, 'denying': 0, 'changes': 0, 'important': 0, 'inflame': 0, 'deaths': 0, 'managers': 0, 'hire': 0, 'leader': 0, 'decade': 0, 'asked': 0, 'demeaning': 0, 'defines': 0, 'writing': 0, 'blame': 0, 'thing': 0, 'get': 0, 'times': 0, 'tackling': 0, 'agile': 0, 'shrugged': 0, 'business': 0, 'put': 0, 'widely': 0, 'social': 0, 'entertain': 0, 'oval': 0, 'instead': 0, 'direction': 0, 'exploded': 0, 'small': 0, 'trump': 0, 'troubling': 0, 'relevant': 0, 'effective': 0, 'encourage': 0, 'job': 0, \"agile's\": 0, 'time': 0, 'harder': 0, 'manifesto': 0, 'towards': 0, 'disregarding': 0, 'different': 0, 'economy': 0, 'rate': 0, \"there's\": 0, 'changes—his': 0, 'tomorrows': 0, 'skills': 0, 'go': 0, 'written': 0, 'much': 0, 'house': 0, 'destroying': 0, 'able': 0, 'soon': 0, 'interview': 0, 'vital': 0, 'give': 0, 'products': 0, 'cases': 0, 'want': 0, 'done': 0, 'every': 0, 'culture': 0, 'importance': 0, 'learn': 0, 'approach': 0, 'killing': 0, 'patterns': 0, 'practical': 0, 'product': 0, 'determination': 0, 'principles': 0, 'three': 0, 'help': 0, 'solve': 0, 'people': 0, 'scientists': 0, 'mission': 0, 'real': 0, 'way': 0, \"world's\": 0, 'major': 0, \"that's\": 0, 'waited': 0, 'runs': 0, 'given': 0, 'software': 0, 'challenges': 0, 'popular': 0, 'values': 0, 'distract': 0, 'problems': 0, 'change': 0, 'chaos': 0, 'deny': 0, 'presidential': 0, \"users'\": 0, 'hit': 0, 'react': 0, 'projects)': 0, 'president': 0, 'main': 0, 'steadily': 0, 'requiring': 0, 'conceived': 0, 'accepted': 0, 'surface': 0, 'hours': 0, 'tv': 0, 'unite': 0, 'dying': 0, 'masks': 0, 'partners': 0, 'mainstream': 0, 'features': 0, 'storm': 0, 'high': 0, 'development': 0, 'control': 0, 'deal': 0, 'shift': 0, 'south': 0, 'works': 0, \"he's\": 0, 'industrial': 0, 'old': 0, 'articles': 0, 'outbreak': 0, 'theme': 0, 'world': 0, \"team's\": 0, 'interplay': 0, 'party': 0, 'us': 0, 'critical': 0, \"korea's\": 0, 'order': 0, 'site': 0, 'becomes': 0, 'faux': 0, 'adapt': 0, 'first': 0, 'developed': 0, 'allows': 0, 'became': 0, 'donald': 0, 'end': 0, 'strength': 0, 'trying': 0, 'original': 0, 'leading': 0, 'fighting': 0, 'zapping': 0, 'divide': 0, 'spending': 0, 'millions': 0, 'modern': 0, 'wear': 0, 'process': 0, 'expert': 0, 'one': 0, 'techniques': 0, 'like': 0, 'cards': 0, 'contract': 0, 'years': 0, 'decide': 0, 'last': 0, 'create': 0, 'bragging': 0, 'ignored': 0, 'open': 0, 'upon': 0, 'work': 0, 'flexible': 0, 'respond': 0, 'habit': 0, \"kingdom's\": 0, 'even': 0, 'said': 0, 'better': 0, 'disappear': 0, 'man': 0, 'jobs': 0, 'population': 0, 'twice': 0, 'command': 0, 'since': 0, 'thinking': 0, 'focus': 0, 'path': 0, 'technical': 0, 'never': 0, 'around': 0, 'facts': 0, 'stable': 0, 'bright': 0, 'got': 0, 'united': 0, 'approaches': 0, 'several': 0, 'guy': 0, 'take': 0, 'opportunities': 0, 'office': 0, 'earth': 0, 'stops': 0, 'profession': 0, 'reality': 0, 'complex': 0, 'teams': 0, 'imagine': 0, 'buck': 0, 'covid': 0, 'well': 0, 'offering': 0, 'raising': 0, 'day': 0, 'states': 0, 'says': 0, 'tall': 0, 'excellence': 0, 'unemployment': 0, 'planning': 0, 'whether': 0, 'someone': 0, 'easy': 0, 'users': 0, \"we're\": 0}\n"
     ]
    }
   ],
   "source": [
    "# The fromkeys() method returns a dictionary with the specified keys and the specified value.\n",
    "wordDictA = dict.fromkeys(total_of_abc, 0)\n",
    "wordDictB = dict.fromkeys(total_of_abc, 0)\n",
    "wordDictC = dict.fromkeys(total_of_abc, 0)\n",
    "print(wordDictA)\n",
    "print(wordDictB)\n",
    "print(wordDictC)"
   ]
  },
  {
   "cell_type": "code",
   "execution_count": 45,
   "id": "duplicate-recommendation",
   "metadata": {},
   "outputs": [
    {
     "name": "stdout",
     "output_type": "stream",
     "text": [
      "{'virus': 0, 'distracting': 0, 'production': 1, 'renew': 0, \"japan's\": 0, 'choice': 0, 'advice': 0, 'authors': 0, 'new': 1, 'election': 0, 'specifics': 1, 'quickly': 1, 'surge': 0, 'practices': 2, 'needs': 2, 'collaboration': 1, 'many': 0, 'great': 0, 'responsibility': 0, 'rapidly': 2, 'media': 0, 'crisis': 0, 'allowing': 1, 'team': 2, 'despite': 0, 'information': 0, 'else': 0, 'triple': 0, 'percent': 0, 'began': 1, '(rather': 0, 'businesses': 0, 'year': 0, 'imposing': 0, 'center': 0, 'kids': 0, 'fundamental': 1, 'within': 1, 'make': 2, 'importantly': 1, 'would': 0, 'technology': 1, 'beat': 0, 'concentrate': 0, 'significant': 1, \"community's\": 0, 'watching': 0, 'organizing': 0, 'collapses': 0, 'still': 1, 'ability': 0, 'denying': 0, 'changes': 1, 'important': 0, 'inflame': 0, 'deaths': 0, 'managers': 1, 'hire': 0, 'leader': 0, 'decade': 1, 'asked': 0, 'demeaning': 0, 'defines': 0, 'writing': 2, 'blame': 0, 'thing': 0, 'get': 0, 'times': 0, 'tackling': 0, 'agile': 4, 'shrugged': 0, 'business': 1, 'put': 1, 'widely': 1, 'social': 0, 'entertain': 0, 'oval': 0, 'instead': 0, 'direction': 1, 'exploded': 0, 'small': 0, 'trump': 0, 'troubling': 0, 'relevant': 1, 'effective': 1, 'encourage': 0, 'job': 0, \"agile's\": 0, 'time': 0, 'harder': 0, 'manifesto': 0, 'towards': 1, 'disregarding': 0, 'different': 0, 'economy': 0, 'rate': 0, \"there's\": 1, 'changes—his': 0, 'tomorrows': 0, 'skills': 1, 'go': 0, 'written': 1, 'much': 0, 'house': 0, 'destroying': 0, 'able': 1, 'soon': 0, 'interview': 0, 'vital': 0, 'give': 0, 'products': 1, 'cases': 0, 'want': 0, 'done': 0, 'every': 0, 'culture': 1, 'importance': 0, 'learn': 1, 'approach': 1, 'killing': 0, 'patterns': 2, 'practical': 1, 'product': 1, 'determination': 0, 'principles': 0, 'three': 0, 'help': 0, 'solve': 0, 'people': 0, 'scientists': 0, 'mission': 0, 'real': 0, 'way': 0, \"world's\": 0, 'major': 0, \"that's\": 0, 'waited': 0, 'runs': 1, 'given': 0, 'software': 5, 'challenges': 0, 'popular': 1, 'values': 0, 'distract': 0, 'problems': 0, 'change': 3, 'chaos': 0, 'deny': 0, 'presidential': 0, \"users'\": 1, 'hit': 0, 'react': 1, 'projects)': 0, 'president': 0, 'main': 0, 'steadily': 1, 'requiring': 1, 'conceived': 1, 'accepted': 1, 'surface': 0, 'hours': 0, 'tv': 0, 'unite': 0, 'dying': 0, 'masks': 0, 'partners': 1, 'mainstream': 0, 'features': 1, 'storm': 0, 'high': 0, 'development': 2, 'control': 0, 'deal': 0, 'shift': 1, 'south': 0, 'works': 0, \"he's\": 0, 'industrial': 0, 'old': 1, 'articles': 1, 'outbreak': 0, 'theme': 1, 'world': 0, \"team's\": 1, 'interplay': 1, 'party': 0, 'us': 0, 'critical': 1, \"korea's\": 0, 'order': 0, 'site': 2, 'becomes': 1, 'faux': 0, 'adapt': 0, 'first': 0, 'developed': 1, 'allows': 2, 'became': 1, 'donald': 0, 'end': 0, 'strength': 0, 'trying': 0, 'original': 0, 'leading': 0, 'fighting': 0, 'zapping': 0, 'divide': 0, 'spending': 0, 'millions': 0, 'modern': 1, 'wear': 0, 'process': 0, 'expert': 0, 'one': 0, 'techniques': 1, 'like': 0, 'cards': 0, 'contract': 0, 'years': 1, 'decide': 0, 'last': 1, 'create': 0, 'bragging': 0, 'ignored': 0, 'open': 1, 'upon': 0, 'work': 1, 'flexible': 1, 'respond': 0, 'habit': 0, \"kingdom's\": 0, 'even': 0, 'said': 0, 'better': 0, 'disappear': 0, 'man': 0, 'jobs': 0, 'population': 0, 'twice': 0, 'command': 0, 'since': 0, 'thinking': 1, 'focus': 1, 'path': 0, 'technical': 1, 'never': 0, 'around': 0, 'facts': 0, 'stable': 1, 'bright': 0, 'got': 0, 'united': 0, 'approaches': 1, 'several': 1, 'guy': 0, 'take': 0, 'opportunities': 0, 'office': 0, 'earth': 0, 'stops': 0, 'profession': 1, 'reality': 0, 'complex': 0, 'teams': 0, 'imagine': 0, 'buck': 0, 'covid': 0, 'well': 0, 'offering': 0, 'raising': 0, 'day': 0, 'states': 0, 'says': 0, 'tall': 0, 'excellence': 0, 'unemployment': 0, 'planning': 1, 'whether': 0, 'someone': 0, 'easy': 1, 'users': 1, \"we're\": 0}\n",
      "{'virus': 0, 'distracting': 0, 'production': 0, 'renew': 0, \"japan's\": 0, 'choice': 0, 'advice': 0, 'authors': 1, 'new': 0, 'election': 0, 'specifics': 0, 'quickly': 0, 'surge': 0, 'practices': 0, 'needs': 0, 'collaboration': 0, 'many': 0, 'great': 1, 'responsibility': 0, 'rapidly': 0, 'media': 0, 'crisis': 0, 'allowing': 0, 'team': 0, 'despite': 1, 'information': 0, 'else': 0, 'triple': 0, 'percent': 0, 'began': 0, '(rather': 1, 'businesses': 0, 'year': 0, 'imposing': 1, 'center': 0, 'kids': 0, 'fundamental': 0, 'within': 0, 'make': 0, 'importantly': 0, 'would': 0, 'technology': 0, 'beat': 0, 'concentrate': 0, 'significant': 0, \"community's\": 1, 'watching': 0, 'organizing': 1, 'collapses': 0, 'still': 0, 'ability': 1, 'denying': 0, 'changes': 0, 'important': 0, 'inflame': 0, 'deaths': 0, 'managers': 0, 'hire': 0, 'leader': 0, 'decade': 0, 'asked': 0, 'demeaning': 0, 'defines': 0, 'writing': 0, 'blame': 0, 'thing': 0, 'get': 0, 'times': 0, 'tackling': 1, 'agile': 3, 'shrugged': 0, 'business': 0, 'put': 0, 'widely': 0, 'social': 0, 'entertain': 0, 'oval': 0, 'instead': 0, 'direction': 0, 'exploded': 0, 'small': 0, 'trump': 0, 'troubling': 1, 'relevant': 0, 'effective': 0, 'encourage': 0, 'job': 0, \"agile's\": 1, 'time': 0, 'harder': 0, 'manifesto': 1, 'towards': 0, 'disregarding': 1, 'different': 0, 'economy': 0, 'rate': 0, \"there's\": 0, 'changes—his': 0, 'tomorrows': 0, 'skills': 0, 'go': 0, 'written': 0, 'much': 1, 'house': 0, 'destroying': 0, 'able': 0, 'soon': 0, 'interview': 0, 'vital': 0, 'give': 0, 'products': 1, 'cases': 0, 'want': 0, 'done': 1, 'every': 0, 'culture': 0, 'importance': 1, 'learn': 1, 'approach': 0, 'killing': 0, 'patterns': 0, 'practical': 0, 'product': 0, 'determination': 0, 'principles': 1, 'three': 1, 'help': 0, 'solve': 0, 'people': 0, 'scientists': 0, 'mission': 0, 'real': 0, 'way': 0, \"world's\": 0, 'major': 0, \"that's\": 0, 'waited': 0, 'runs': 0, 'given': 0, 'software': 1, 'challenges': 1, 'popular': 0, 'values': 1, 'distract': 0, 'problems': 2, 'change': 0, 'chaos': 0, 'deny': 0, 'presidential': 0, \"users'\": 0, 'hit': 0, 'react': 0, 'projects)': 1, 'president': 0, 'main': 1, 'steadily': 0, 'requiring': 0, 'conceived': 0, 'accepted': 0, 'surface': 1, 'hours': 0, 'tv': 0, 'unite': 0, 'dying': 0, 'masks': 0, 'partners': 0, 'mainstream': 1, 'features': 0, 'storm': 0, 'high': 0, 'development': 1, 'control': 0, 'deal': 0, 'shift': 0, 'south': 0, 'works': 0, \"he's\": 0, 'industrial': 1, 'old': 0, 'articles': 0, 'outbreak': 0, 'theme': 0, 'world': 1, \"team's\": 0, 'interplay': 0, 'party': 0, 'us': 0, 'critical': 0, \"korea's\": 0, 'order': 0, 'site': 0, 'becomes': 0, 'faux': 1, 'adapt': 1, 'first': 0, 'developed': 0, 'allows': 0, 'became': 0, 'donald': 0, 'end': 0, 'strength': 1, 'trying': 0, 'original': 1, 'leading': 0, 'fighting': 1, 'zapping': 0, 'divide': 0, 'spending': 0, 'millions': 0, 'modern': 0, 'wear': 0, 'process': 1, 'expert': 0, 'one': 0, 'techniques': 0, 'like': 0, 'cards': 0, 'contract': 0, 'years': 0, 'decide': 0, 'last': 0, 'create': 0, 'bragging': 0, 'ignored': 0, 'open': 0, 'upon': 1, 'work': 0, 'flexible': 0, 'respond': 0, 'habit': 1, \"kingdom's\": 0, 'even': 0, 'said': 0, 'better': 0, 'disappear': 0, 'man': 0, 'jobs': 0, 'population': 0, 'twice': 0, 'command': 0, 'since': 1, 'thinking': 0, 'focus': 1, 'path': 0, 'technical': 1, 'never': 0, 'around': 1, 'facts': 0, 'stable': 0, 'bright': 1, 'got': 0, 'united': 0, 'approaches': 0, 'several': 0, 'guy': 0, 'take': 0, 'opportunities': 0, 'office': 0, 'earth': 0, 'stops': 0, 'profession': 0, 'reality': 1, 'complex': 1, 'teams': 2, 'imagine': 1, 'buck': 0, 'covid': 0, 'well': 0, 'offering': 0, 'raising': 1, 'day': 0, 'states': 0, 'says': 0, 'tall': 0, 'excellence': 1, 'unemployment': 0, 'planning': 0, 'whether': 0, 'someone': 0, 'easy': 0, 'users': 0, \"we're\": 0}\n",
      "{'virus': 1, 'distracting': 1, 'production': 0, 'renew': 1, \"japan's\": 1, 'choice': 1, 'advice': 1, 'authors': 0, 'new': 0, 'election': 1, 'specifics': 0, 'quickly': 0, 'surge': 1, 'practices': 0, 'needs': 0, 'collaboration': 0, 'many': 1, 'great': 2, 'responsibility': 2, 'rapidly': 0, 'media': 1, 'crisis': 1, 'allowing': 0, 'team': 0, 'despite': 0, 'information': 1, 'else': 1, 'triple': 1, 'percent': 2, 'began': 0, '(rather': 0, 'businesses': 1, 'year': 1, 'imposing': 0, 'center': 2, 'kids': 1, 'fundamental': 0, 'within': 0, 'make': 0, 'importantly': 0, 'would': 1, 'technology': 0, 'beat': 1, 'concentrate': 1, 'significant': 0, \"community's\": 0, 'watching': 1, 'organizing': 0, 'collapses': 1, 'still': 0, 'ability': 0, 'denying': 1, 'changes': 0, 'important': 1, 'inflame': 1, 'deaths': 1, 'managers': 0, 'hire': 2, 'leader': 1, 'decade': 0, 'asked': 1, 'demeaning': 1, 'defines': 1, 'writing': 0, 'blame': 2, 'thing': 1, 'get': 1, 'times': 2, 'tackling': 0, 'agile': 0, 'shrugged': 1, 'business': 0, 'put': 0, 'widely': 0, 'social': 1, 'entertain': 1, 'oval': 1, 'instead': 1, 'direction': 0, 'exploded': 1, 'small': 1, 'trump': 2, 'troubling': 0, 'relevant': 0, 'effective': 0, 'encourage': 1, 'job': 4, \"agile's\": 0, 'time': 1, 'harder': 1, 'manifesto': 0, 'towards': 0, 'disregarding': 0, 'different': 1, 'economy': 1, 'rate': 2, \"there's\": 1, 'changes—his': 1, 'tomorrows': 1, 'skills': 0, 'go': 2, 'written': 0, 'much': 1, 'house': 1, 'destroying': 1, 'able': 0, 'soon': 1, 'interview': 1, 'vital': 1, 'give': 2, 'products': 0, 'cases': 1, 'want': 1, 'done': 1, 'every': 1, 'culture': 0, 'importance': 0, 'learn': 0, 'approach': 0, 'killing': 1, 'patterns': 0, 'practical': 0, 'product': 0, 'determination': 1, 'principles': 0, 'three': 1, 'help': 1, 'solve': 1, 'people': 3, 'scientists': 1, 'mission': 1, 'real': 1, 'way': 1, \"world's\": 3, 'major': 1, \"that's\": 1, 'waited': 1, 'runs': 0, 'given': 1, 'software': 0, 'challenges': 0, 'popular': 0, 'values': 0, 'distract': 1, 'problems': 1, 'change': 0, 'chaos': 1, 'deny': 1, 'presidential': 1, \"users'\": 0, 'hit': 1, 'react': 0, 'projects)': 0, 'president': 2, 'main': 0, 'steadily': 0, 'requiring': 0, 'conceived': 0, 'accepted': 0, 'surface': 0, 'hours': 1, 'tv': 2, 'unite': 1, 'dying': 1, 'masks': 1, 'partners': 0, 'mainstream': 0, 'features': 0, 'storm': 1, 'high': 1, 'development': 0, 'control': 1, 'deal': 1, 'shift': 2, 'south': 1, 'works': 1, \"he's\": 1, 'industrial': 1, 'old': 0, 'articles': 0, 'outbreak': 1, 'theme': 0, 'world': 1, \"team's\": 0, 'interplay': 0, 'party': 1, 'us': 3, 'critical': 0, \"korea's\": 1, 'order': 1, 'site': 0, 'becomes': 0, 'faux': 0, 'adapt': 0, 'first': 1, 'developed': 0, 'allows': 0, 'became': 0, 'donald': 2, 'end': 1, 'strength': 0, 'trying': 1, 'original': 0, 'leading': 1, 'fighting': 0, 'zapping': 1, 'divide': 1, 'spending': 1, 'millions': 1, 'modern': 0, 'wear': 1, 'process': 0, 'expert': 1, 'one': 1, 'techniques': 0, 'like': 3, 'cards': 1, 'contract': 1, 'years': 0, 'decide': 1, 'last': 0, 'create': 1, 'bragging': 1, 'ignored': 1, 'open': 0, 'upon': 0, 'work': 2, 'flexible': 0, 'respond': 2, 'habit': 0, \"kingdom's\": 1, 'even': 1, 'said': 2, 'better': 1, 'disappear': 1, 'man': 2, 'jobs': 1, 'population': 1, 'twice': 1, 'command': 1, 'since': 0, 'thinking': 0, 'focus': 0, 'path': 1, 'technical': 0, 'never': 2, 'around': 0, 'facts': 1, 'stable': 0, 'bright': 0, 'got': 1, 'united': 2, 'approaches': 0, 'several': 0, 'guy': 1, 'take': 1, 'opportunities': 1, 'office': 1, 'earth': 1, 'stops': 1, 'profession': 0, 'reality': 0, 'complex': 0, 'teams': 0, 'imagine': 0, 'buck': 1, 'covid': 5, 'well': 1, 'offering': 1, 'raising': 0, 'day': 2, 'states': 1, 'says': 1, 'tall': 1, 'excellence': 0, 'unemployment': 2, 'planning': 0, 'whether': 1, 'someone': 1, 'easy': 0, 'users': 0, \"we're\": 1}\n"
     ]
    }
   ],
   "source": [
    "# Count the words using a dictionary key-value pair\n",
    "wordDictA = count_words_in_text(wordDictA, fowler_a)\n",
    "wordDictB = count_words_in_text(wordDictB, fowler_b)\n",
    "wordDictC = count_words_in_text(wordDictC, bill_clinton)\n",
    "print(wordDictA)\n",
    "print(wordDictB)\n",
    "print(wordDictC)"
   ]
  },
  {
   "cell_type": "code",
   "execution_count": 46,
   "id": "cross-cloud",
   "metadata": {},
   "outputs": [
    {
     "name": "stdout",
     "output_type": "stream",
     "text": [
      "   virus  distracting  production  renew  japan's  choice  advice  authors  \\\n",
      "0      0            0           1      0        0       0       0        0   \n",
      "1      0            0           0      0        0       0       0        1   \n",
      "2      1            1           0      1        1       1       1        0   \n",
      "\n",
      "   new  election  ...  says  tall  excellence  unemployment  planning  \\\n",
      "0    1         0  ...     0     0           0             0         1   \n",
      "1    0         0  ...     0     0           1             0         0   \n",
      "2    0         1  ...     1     1           0             2         0   \n",
      "\n",
      "   whether  someone  easy  users  we're  \n",
      "0        0        0     1      1      0  \n",
      "1        0        0     0      0      0  \n",
      "2        1        1     0      0      1  \n",
      "\n",
      "[3 rows x 282 columns]\n"
     ]
    }
   ],
   "source": [
    "# Two-dimensional, size-mutable, potentially heterogeneous tabular data.\n",
    "df_ab = pd.DataFrame([wordDictA, wordDictB, wordDictC])\n",
    "print(df_ab)"
   ]
  },
  {
   "cell_type": "code",
   "execution_count": 47,
   "id": "imported-region",
   "metadata": {},
   "outputs": [
    {
     "name": "stdout",
     "output_type": "stream",
     "text": [
      "      virus  distracting  production     renew   japan's    choice    advice  \\\n",
      "0  0.000000     0.000000    0.009804  0.000000  0.000000  0.000000  0.000000   \n",
      "1  0.000000     0.000000    0.000000  0.000000  0.000000  0.000000  0.000000   \n",
      "2  0.004926     0.004926    0.000000  0.004926  0.004926  0.004926  0.004926   \n",
      "\n",
      "    authors       new  election  ...      says      tall  excellence  \\\n",
      "0  0.000000  0.009804  0.000000  ...  0.000000  0.000000    0.000000   \n",
      "1  0.018182  0.000000  0.000000  ...  0.000000  0.000000    0.018182   \n",
      "2  0.000000  0.000000  0.004926  ...  0.004926  0.004926    0.000000   \n",
      "\n",
      "   unemployment  planning   whether   someone      easy     users     we're  \n",
      "0      0.000000  0.009804  0.000000  0.000000  0.009804  0.009804  0.000000  \n",
      "1      0.000000  0.000000  0.000000  0.000000  0.000000  0.000000  0.000000  \n",
      "2      0.009852  0.000000  0.004926  0.004926  0.000000  0.000000  0.004926  \n",
      "\n",
      "[3 rows x 282 columns]\n"
     ]
    }
   ],
   "source": [
    "# how often can we find term t in document D ?\n",
    "# running our sentences through the tf function:\n",
    "text_frequency_a = computeTextFrequency(wordDictA, fowler_a)\n",
    "text_frequency_b = computeTextFrequency(wordDictB, fowler_b)\n",
    "text_frequency_c = computeTextFrequency(wordDictC, bill_clinton)\n",
    "\n",
    "text_frequency = pd.DataFrame([text_frequency_a, text_frequency_b, text_frequency_c])\n",
    "print(text_frequency)"
   ]
  },
  {
   "cell_type": "code",
   "execution_count": 48,
   "id": "horizontal-howard",
   "metadata": {},
   "outputs": [
    {
     "name": "stdout",
     "output_type": "stream",
     "text": [
      "   virus  distracting  production  renew  japan's  choice  advice   authors  \\\n",
      "0    0.0          0.0    0.004678    0.0      0.0     0.0     0.0  0.000000   \n",
      "1    0.0          0.0    0.000000    0.0      0.0     0.0     0.0  0.008675   \n",
      "\n",
      "        new  election  ...  says  tall  excellence  unemployment  planning  \\\n",
      "0  0.004678       0.0  ...   0.0   0.0    0.000000           0.0  0.004678   \n",
      "1  0.000000       0.0  ...   0.0   0.0    0.008675           0.0  0.000000   \n",
      "\n",
      "   whether  someone      easy     users  we're  \n",
      "0      0.0      0.0  0.004678  0.004678    0.0  \n",
      "1      0.0      0.0  0.000000  0.000000    0.0  \n",
      "\n",
      "[2 rows x 282 columns]\n"
     ]
    }
   ],
   "source": [
    "# idf = inverse document frequency\n",
    "# inputting our sentences in the log file\n",
    "idfs = computeIDF([wordDictA, wordDictB, wordDictC])\n",
    "\n",
    "# running all sentences through the IDF:\n",
    "# fowler vs fowler vs bill\n",
    "#idf1 = computeTFIDF(text_frequency_a, idfs)\n",
    "#idf2 = computeTFIDF(text_frequency_b, idfs)\n",
    "#idf3 = computeTFIDF(text_frequency_c, idfs)\n",
    "\n",
    "wordDictA = computeTFIDF(text_frequency_a, idfs)\n",
    "wordDictB = computeTFIDF(text_frequency_b, idfs)\n",
    "wordDictC = computeTFIDF(text_frequency_c, idfs)\n",
    "\n",
    "# store in a dataframe\n",
    "idf = pd.DataFrame([idf1, idf2])\n",
    "print(idf)"
   ]
  },
  {
   "cell_type": "code",
   "execution_count": 49,
   "id": "preliminary-newark",
   "metadata": {},
   "outputs": [
    {
     "name": "stdout",
     "output_type": "stream",
     "text": [
      "0.2255335554089116\n",
      "0.022633936510629653\n",
      "0.0639198741805592\n",
      "text 1 and 2 are from the same author\n"
     ]
    }
   ],
   "source": [
    "# Similarity\n",
    "simi_text1_text2 = cosine(wordDictA, wordDictB)\n",
    "simi_text1_text3 = cosine(wordDictA, wordDictC)\n",
    "simi_text2_text3 = cosine(wordDictB, wordDictC)\n",
    "print(simi_text1_text2)\n",
    "print(simi_text1_text3)\n",
    "print(simi_text2_text3)\n",
    "\n",
    "if simi_text1_text2 > simi_text1_text3 and simi_text1_text2 > simi_text2_text3:\n",
    "    print(\"text 1 and 2 are from the same author\")\n",
    "elif simi_text1_text3 > simi_text1_text2 and simi_text1_text3 > simi_text2_text3:\n",
    "    print(\"text 1 and 3 are from the same author\")\n",
    "else:\n",
    "    print(\"text 2 and 3 are from the same author \")"
   ]
  }
 ],
 "metadata": {
  "kernelspec": {
   "display_name": "Python 3",
   "language": "python",
   "name": "python3"
  },
  "language_info": {
   "codemirror_mode": {
    "name": "ipython",
    "version": 3
   },
   "file_extension": ".py",
   "mimetype": "text/x-python",
   "name": "python",
   "nbconvert_exporter": "python",
   "pygments_lexer": "ipython3",
   "version": "3.8.5"
  }
 },
 "nbformat": 4,
 "nbformat_minor": 5
}
